{
  "nbformat": 4,
  "nbformat_minor": 0,
  "metadata": {
    "colab": {
      "provenance": []
    },
    "kernelspec": {
      "name": "python3",
      "display_name": "Python 3"
    },
    "language_info": {
      "name": "python"
    }
  },
  "cells": [
    {
      "cell_type": "markdown",
      "metadata": {
        "id": "2_0lDpWjt_Wt"
      },
      "source": [
        "# Importing libraries"
      ]
    },
    {
      "cell_type": "code",
      "metadata": {
        "colab": {
          "base_uri": "https://localhost:8080/",
          "height": 190
        },
        "id": "sHTCZd5PBIQx",
        "outputId": "851f1297-aeb5-4a2e-e6f7-d90fef3c312b"
      },
      "source": [
        "import numpy as np\n",
        "import math\n",
        "import pandas as pd\n",
        "document = pd.read_csv('data.txt', sep='\\t',header=None, names=['Label', 'doc'])\n",
        "\n",
        "print(document.shape)\n",
        "document.head()"
      ],
      "execution_count": null,
      "outputs": [
        {
          "output_type": "stream",
          "name": "stdout",
          "text": [
            "(4, 2)\n"
          ]
        },
        {
          "output_type": "execute_result",
          "data": {
            "text/html": [
              "<div>\n",
              "<style scoped>\n",
              "    .dataframe tbody tr th:only-of-type {\n",
              "        vertical-align: middle;\n",
              "    }\n",
              "\n",
              "    .dataframe tbody tr th {\n",
              "        vertical-align: top;\n",
              "    }\n",
              "\n",
              "    .dataframe thead th {\n",
              "        text-align: right;\n",
              "    }\n",
              "</style>\n",
              "<table border=\"1\" class=\"dataframe\">\n",
              "  <thead>\n",
              "    <tr style=\"text-align: right;\">\n",
              "      <th></th>\n",
              "      <th>Label</th>\n",
              "      <th>doc</th>\n",
              "    </tr>\n",
              "  </thead>\n",
              "  <tbody>\n",
              "    <tr>\n",
              "      <th>0</th>\n",
              "      <td>DL</td>\n",
              "      <td>In recent years researchers for computer visio...</td>\n",
              "    </tr>\n",
              "    <tr>\n",
              "      <th>1</th>\n",
              "      <td>DL</td>\n",
              "      <td>Deep FR systems benefit from the hierarchical ...</td>\n",
              "    </tr>\n",
              "    <tr>\n",
              "      <th>2</th>\n",
              "      <td>CV</td>\n",
              "      <td>Computer vision methods have been widely used ...</td>\n",
              "    </tr>\n",
              "    <tr>\n",
              "      <th>3</th>\n",
              "      <td>Nan</td>\n",
              "      <td>Deep learning based computer vision methods h...</td>\n",
              "    </tr>\n",
              "  </tbody>\n",
              "</table>\n",
              "</div>"
            ],
            "text/plain": [
              "  Label                                                doc\n",
              "0    DL  In recent years researchers for computer visio...\n",
              "1    DL  Deep FR systems benefit from the hierarchical ...\n",
              "2    CV  Computer vision methods have been widely used ...\n",
              "3   Nan   Deep learning based computer vision methods h..."
            ]
          },
          "metadata": {},
          "execution_count": 8
        }
      ]
    },
    {
      "cell_type": "code",
      "metadata": {
        "colab": {
          "base_uri": "https://localhost:8080/",
          "height": 142
        },
        "id": "2ZTLQkeYBPyY",
        "outputId": "9f939c7c-8fef-4e45-a9fd-577f51d7b3e9"
      },
      "source": [
        "document['doc'] = document['doc'].str.lower()   #converting the whole document into lower case\n",
        "training_data = document.iloc[[0,1,2],[0,1]]    #splitting dataset into training and testing set\n",
        "test_data = document.iloc[[3], [0,1]]\n",
        "training_data['doc'] = training_data['doc'].str.split()\n",
        "test_data['doc'] = test_data['doc'].str.split()\n",
        "prior_dl = 2/len(training_data)\n",
        "prior_cv = 1/len(training_data)\n",
        "training_data"
      ],
      "execution_count": null,
      "outputs": [
        {
          "output_type": "execute_result",
          "data": {
            "text/html": [
              "<div>\n",
              "<style scoped>\n",
              "    .dataframe tbody tr th:only-of-type {\n",
              "        vertical-align: middle;\n",
              "    }\n",
              "\n",
              "    .dataframe tbody tr th {\n",
              "        vertical-align: top;\n",
              "    }\n",
              "\n",
              "    .dataframe thead th {\n",
              "        text-align: right;\n",
              "    }\n",
              "</style>\n",
              "<table border=\"1\" class=\"dataframe\">\n",
              "  <thead>\n",
              "    <tr style=\"text-align: right;\">\n",
              "      <th></th>\n",
              "      <th>Label</th>\n",
              "      <th>doc</th>\n",
              "    </tr>\n",
              "  </thead>\n",
              "  <tbody>\n",
              "    <tr>\n",
              "      <th>0</th>\n",
              "      <td>DL</td>\n",
              "      <td>[in, recent, years, researchers, for, computer...</td>\n",
              "    </tr>\n",
              "    <tr>\n",
              "      <th>1</th>\n",
              "      <td>DL</td>\n",
              "      <td>[deep, fr, systems, benefit, from, the, hierar...</td>\n",
              "    </tr>\n",
              "    <tr>\n",
              "      <th>2</th>\n",
              "      <td>CV</td>\n",
              "      <td>[computer, vision, methods, have, been, widely...</td>\n",
              "    </tr>\n",
              "  </tbody>\n",
              "</table>\n",
              "</div>"
            ],
            "text/plain": [
              "  Label                                                doc\n",
              "0    DL  [in, recent, years, researchers, for, computer...\n",
              "1    DL  [deep, fr, systems, benefit, from, the, hierar...\n",
              "2    CV  [computer, vision, methods, have, been, widely..."
            ]
          },
          "metadata": {},
          "execution_count": 9
        }
      ]
    },
    {
      "cell_type": "code",
      "metadata": {
        "id": "plx6qppHBZ93"
      },
      "source": [
        "vocab = []      #vocab array to hold all the words\n",
        "for msg in training_data['doc']:\n",
        "  for word in msg:\n",
        "    vocab.append(word)\n",
        "\n",
        "total_words = len(vocab)\n",
        "\n",
        "vocab = list(set(vocab)) #making vocab unique by using set function\n",
        "unique_words = len(vocab)"
      ],
      "execution_count": null,
      "outputs": []
    },
    {
      "cell_type": "code",
      "metadata": {
        "id": "JxWc6Y91Bc3U"
      },
      "source": [
        "vocab_test = []\n",
        "for msg in test_data['doc']:\n",
        "  for word in msg:\n",
        "    vocab_test.append(word)\n",
        "\n",
        "\n",
        "vocab_test = list(set(vocab_test)) #unique vocab."
      ],
      "execution_count": null,
      "outputs": []
    },
    {
      "cell_type": "code",
      "metadata": {
        "id": "WeLrCVv7Byt0"
      },
      "source": [
        "N = len(training_data)\n",
        "\n",
        "p_word_dl =[]  #an array to hold all the likelihood probabilities belonging to class dl\n",
        "p_word_cv =[]  #an array to hold all the likelihood probabilities belonging to class cv\n",
        "\n",
        "DL = training_data[training_data['Label'] == 'DL']\n",
        "CV = training_data[training_data['Label'] == 'CV']\n",
        "\n",
        "prior_dl = 2/len(training_data)\n",
        "prior_cv = 1/len(training_data)\n",
        "\n",
        "for word in vocab:\n",
        "  count = 0\n",
        "  for msg in DL['doc']:\n",
        "    if word in msg:\n",
        "      count+=1\n",
        "  p_word_dl.append((count + 1)/(len(DL) + 2))   #calculating probability with add1 smoothing\n",
        "\n",
        "  count = 0\n",
        "  for msg in CV['doc']:\n",
        "    if word in msg:\n",
        "      count+=1\n",
        "  p_word_cv.append((count + 1)/(len(CV) + 2))\n",
        "\n",
        "#print(p_word_dl)\n"
      ],
      "execution_count": null,
      "outputs": []
    },
    {
      "cell_type": "code",
      "metadata": {
        "colab": {
          "base_uri": "https://localhost:8080/"
        },
        "id": "i5_poZqFE-xh",
        "outputId": "3d5cb7aa-5a8f-4d57-a819-2f536b2f2465"
      },
      "source": [
        "score_dl = math.log(prior_dl)   #score_dl is the total probability we will get after multiplying many probabilities in it\n",
        "score_cv = math.log(prior_cv)\n",
        "\n",
        "ans1=[]\n",
        "ans2=[]\n",
        "for index,word in enumerate(vocab):\n",
        "  if word in vocab_test:\n",
        "    ans1.append(p_word_dl[index])\n",
        "    score_dl += math.log(p_word_dl[index])\n",
        "    ans2.append(p_word_cv[index])\n",
        "    score_cv += math.log(p_word_cv[index])\n",
        "  else:\n",
        "    # ans1.append(p_word_dl[index])\n",
        "    score_dl += math.log(1 - p_word_dl[index])\n",
        "    # ans2.append(p_word_cv[index])\n",
        "    score_cv += math.log(1 - p_word_cv[index])\n",
        "\n",
        "#####printing outputs######\n",
        "print('The test document is : Deep learning based computer vision methods have been used for facial recognition.\\n')\n",
        "if score_dl >= score_cv:\n",
        "   print(\"Predicted class -> DL\")\n",
        "else:\n",
        "  print(\"Predicted class -> CV\")\n",
        "\n",
        "print('----------------------------------------------------------------------------------------------')\n",
        "print('\\nparameters:\\n')\n",
        "print('Total number of documents:',len(document),end=\"\")\n",
        "print('( Test documents=',len(training_data),end=\"\")\n",
        "print(', Train documents=',len(test_data),')')\n",
        "print('Total number of words:',total_words)\n",
        "\n",
        "print('\\nVocabulary is:',vocab)\n",
        "print('Total number of words in vocabulary:',len(vocab))\n",
        "print('----------------------------------------------------------------------------------------------')\n",
        "print('\\ncomputation Parameters: \\nConditional Probabilities in DL',p_word_dl)\n",
        "print('Conditional Probabilities in CV',p_word_cv)\n",
        "print('\\nScore DL: ',end=\"\")\n",
        "for i in range(len(ans1)):\n",
        "  if i!=len(ans1)-1:\n",
        "   print(round(ans1[i], 4),' * ',end=\"\")\n",
        "  else:\n",
        "    print(round(ans1[i], 4),' ',end=\"\")\n",
        "print('\\nScore CV: ',end=\"\")\n",
        "for i in range(len(ans2)):\n",
        "  if i!=len(ans1)-1:\n",
        "   print(round(ans2[i], 4),' * ',end=\"\")\n",
        "  else:\n",
        "    print(round(ans1[i], 4),' ',end=\"\")"
      ],
      "execution_count": null,
      "outputs": [
        {
          "output_type": "stream",
          "name": "stdout",
          "text": [
            "The test document is : Deep learning based computer vision methods have been used for facial recognition.\n",
            "\n",
            "Predicted class -> CV\n",
            "----------------------------------------------------------------------------------------------\n",
            "\n",
            "parameters:\n",
            "\n",
            "Total number of documents: 4( Test documents= 3, Train documents= 1 )\n",
            "Total number of words: 56\n",
            "\n",
            "Vocabulary is: ['(fr)', 'of', 'vision', 'techniques', 'proposed', 'tasks', 'discriminative', 'many', 'representation', 'enormous', 'using', 'an', 'been', 'in', 'methods', 'have', 'researchers', 'years', 'computer', 'recent', 'learning', 'architecture', 'the', 'widely', 'made', 'used', 'for', 'to', 'benefit', 'learn', 'leap', 'these', 'hierarchical', 'various', 'facial', 'fr', 'systems', 'face', 'and', '(dl)', 'recognition', 'deep', 'from']\n",
            "Total number of words in vocabulary: 43\n",
            "----------------------------------------------------------------------------------------------\n",
            "\n",
            "computation Parameters: \n",
            "Conditional Probabilities in DL [0.5, 0.5, 0.5, 0.5, 0.5, 0.5, 0.5, 0.5, 0.5, 0.5, 0.5, 0.5, 0.25, 0.5, 0.75, 0.5, 0.5, 0.5, 0.5, 0.5, 0.75, 0.5, 0.5, 0.25, 0.5, 0.25, 0.5, 0.5, 0.5, 0.5, 0.5, 0.5, 0.5, 0.5, 0.5, 0.5, 0.5, 0.5, 0.5, 0.5, 0.5, 0.75, 0.5]\n",
            "Conditional Probabilities in CV [0.3333333333333333, 0.3333333333333333, 0.6666666666666666, 0.3333333333333333, 0.3333333333333333, 0.3333333333333333, 0.3333333333333333, 0.3333333333333333, 0.3333333333333333, 0.3333333333333333, 0.3333333333333333, 0.3333333333333333, 0.6666666666666666, 0.3333333333333333, 0.6666666666666666, 0.6666666666666666, 0.3333333333333333, 0.3333333333333333, 0.6666666666666666, 0.3333333333333333, 0.3333333333333333, 0.3333333333333333, 0.3333333333333333, 0.6666666666666666, 0.3333333333333333, 0.6666666666666666, 0.6666666666666666, 0.3333333333333333, 0.3333333333333333, 0.3333333333333333, 0.3333333333333333, 0.3333333333333333, 0.3333333333333333, 0.3333333333333333, 0.6666666666666666, 0.3333333333333333, 0.3333333333333333, 0.3333333333333333, 0.3333333333333333, 0.3333333333333333, 0.6666666666666666, 0.3333333333333333, 0.3333333333333333]\n",
            "\n",
            "Score DL: 0.5  * 0.25  * 0.75  * 0.5  * 0.5  * 0.75  * 0.25  * 0.5  * 0.5  * 0.5  * 0.75  \n",
            "Score CV: 0.6667  * 0.6667  * 0.6667  * 0.6667  * 0.6667  * 0.3333  * 0.6667  * 0.6667  * 0.6667  * 0.6667  * 0.75  "
          ]
        }
      ]
    }
  ]
}