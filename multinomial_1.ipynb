{
  "nbformat": 4,
  "nbformat_minor": 0,
  "metadata": {
    "colab": {
      "provenance": []
    },
    "kernelspec": {
      "name": "python3",
      "display_name": "Python 3"
    },
    "language_info": {
      "name": "python"
    }
  },
  "cells": [
    {
      "cell_type": "markdown",
      "metadata": {
        "id": "XAoG24sns_yx"
      },
      "source": [
        "# Importing libraries"
      ]
    },
    {
      "cell_type": "code",
      "metadata": {
        "colab": {
          "base_uri": "https://localhost:8080/",
          "height": 190
        },
        "id": "KgXCpDaAaY_1",
        "outputId": "52974da1-5d5f-453c-bf32-c33c9a203502"
      },
      "source": [
        "import numpy as np\n",
        "import math\n",
        "import pandas as pd\n",
        "document = pd.read_csv('data.txt', sep='\\t',header=None, names=['Label', 'doc'])\n",
        "\n",
        "print(document.shape)\n",
        "document.head()"
      ],
      "execution_count": null,
      "outputs": [
        {
          "output_type": "stream",
          "name": "stdout",
          "text": [
            "(4, 2)\n"
          ]
        },
        {
          "output_type": "execute_result",
          "data": {
            "text/html": [
              "<div>\n",
              "<style scoped>\n",
              "    .dataframe tbody tr th:only-of-type {\n",
              "        vertical-align: middle;\n",
              "    }\n",
              "\n",
              "    .dataframe tbody tr th {\n",
              "        vertical-align: top;\n",
              "    }\n",
              "\n",
              "    .dataframe thead th {\n",
              "        text-align: right;\n",
              "    }\n",
              "</style>\n",
              "<table border=\"1\" class=\"dataframe\">\n",
              "  <thead>\n",
              "    <tr style=\"text-align: right;\">\n",
              "      <th></th>\n",
              "      <th>Label</th>\n",
              "      <th>doc</th>\n",
              "    </tr>\n",
              "  </thead>\n",
              "  <tbody>\n",
              "    <tr>\n",
              "      <th>0</th>\n",
              "      <td>DL</td>\n",
              "      <td>In recent years researchers for computer visio...</td>\n",
              "    </tr>\n",
              "    <tr>\n",
              "      <th>1</th>\n",
              "      <td>DL</td>\n",
              "      <td>Deep FR systems benefit from the hierarchical ...</td>\n",
              "    </tr>\n",
              "    <tr>\n",
              "      <th>2</th>\n",
              "      <td>CV</td>\n",
              "      <td>Computer vision methods have been widely used ...</td>\n",
              "    </tr>\n",
              "    <tr>\n",
              "      <th>3</th>\n",
              "      <td>Nan</td>\n",
              "      <td>Deep learning based computer vision methods h...</td>\n",
              "    </tr>\n",
              "  </tbody>\n",
              "</table>\n",
              "</div>"
            ],
            "text/plain": [
              "  Label                                                doc\n",
              "0    DL  In recent years researchers for computer visio...\n",
              "1    DL  Deep FR systems benefit from the hierarchical ...\n",
              "2    CV  Computer vision methods have been widely used ...\n",
              "3   Nan   Deep learning based computer vision methods h..."
            ]
          },
          "metadata": {},
          "execution_count": 18
        }
      ]
    },
    {
      "cell_type": "code",
      "metadata": {
        "colab": {
          "base_uri": "https://localhost:8080/",
          "height": 142
        },
        "id": "-N0f4-mJbDhj",
        "outputId": "e52e0902-ce3c-44ec-a031-cdba42365ed4"
      },
      "source": [
        "document['doc'] = document['doc'].str.lower()   #converting the whole document into lower case\n",
        "training_data = document.iloc[[0,1,2],[0,1]]    #splitting dataset into training and testing set\n",
        "test_data = document.iloc[[3], [0,1]]\n",
        "training_data['doc'] = training_data['doc'].str.split()\n",
        "test_data['doc'] = test_data['doc'].str.split()\n",
        "prior_dl = 2/len(training_data)\n",
        "prior_cv = 1/len(training_data)\n",
        "training_data"
      ],
      "execution_count": null,
      "outputs": [
        {
          "output_type": "execute_result",
          "data": {
            "text/html": [
              "<div>\n",
              "<style scoped>\n",
              "    .dataframe tbody tr th:only-of-type {\n",
              "        vertical-align: middle;\n",
              "    }\n",
              "\n",
              "    .dataframe tbody tr th {\n",
              "        vertical-align: top;\n",
              "    }\n",
              "\n",
              "    .dataframe thead th {\n",
              "        text-align: right;\n",
              "    }\n",
              "</style>\n",
              "<table border=\"1\" class=\"dataframe\">\n",
              "  <thead>\n",
              "    <tr style=\"text-align: right;\">\n",
              "      <th></th>\n",
              "      <th>Label</th>\n",
              "      <th>doc</th>\n",
              "    </tr>\n",
              "  </thead>\n",
              "  <tbody>\n",
              "    <tr>\n",
              "      <th>0</th>\n",
              "      <td>DL</td>\n",
              "      <td>[in, recent, years, researchers, for, computer...</td>\n",
              "    </tr>\n",
              "    <tr>\n",
              "      <th>1</th>\n",
              "      <td>DL</td>\n",
              "      <td>[deep, fr, systems, benefit, from, the, hierar...</td>\n",
              "    </tr>\n",
              "    <tr>\n",
              "      <th>2</th>\n",
              "      <td>CV</td>\n",
              "      <td>[computer, vision, methods, have, been, widely...</td>\n",
              "    </tr>\n",
              "  </tbody>\n",
              "</table>\n",
              "</div>"
            ],
            "text/plain": [
              "  Label                                                doc\n",
              "0    DL  [in, recent, years, researchers, for, computer...\n",
              "1    DL  [deep, fr, systems, benefit, from, the, hierar...\n",
              "2    CV  [computer, vision, methods, have, been, widely..."
            ]
          },
          "metadata": {},
          "execution_count": 19
        }
      ]
    },
    {
      "cell_type": "code",
      "metadata": {
        "id": "wkrNvm81b831"
      },
      "source": [
        "vocab = []    #vocab array to hold all the words\n",
        "for msg in training_data['doc']:\n",
        "  for word in msg:\n",
        "    vocab.append(word)\n",
        "\n",
        "total_words = len(vocab)\n",
        "\n",
        "vocab = list(set(vocab)) #making vocab unique by using set function\n",
        "unique_words = len(vocab)\n",
        "\n"
      ],
      "execution_count": null,
      "outputs": []
    },
    {
      "cell_type": "code",
      "metadata": {
        "colab": {
          "base_uri": "https://localhost:8080/"
        },
        "id": "uwmdoEODhaVj",
        "outputId": "46ca0e91-589a-4aca-fa01-5684d7cddda2"
      },
      "source": [
        "p_word_dl =[]   #an array to hold all the likelihood probabilities belonging to class dl\n",
        "p_word_cv =[]   #an array to hold all the likelihood probabilities belonging to class cv\n",
        "\n",
        "DL = training_data[training_data['Label'] == 'DL']\n",
        "CV = training_data[training_data['Label'] == 'CV']\n",
        "for word in vocab:\n",
        "  count =0\n",
        "  for msg in DL['doc']:\n",
        "    for w in msg:\n",
        "      if word == w:\n",
        "        count+=1\n",
        "  p_word_dl.append((count + 1)/(total_words + unique_words))    #calculating probability with add1 smoothing\n",
        "  count = 0\n",
        "\n",
        "  for msg in CV['doc']:\n",
        "    for w in msg:\n",
        "      if word == w:\n",
        "        count+=1\n",
        "  p_word_cv.append((count + 1)/(total_words + unique_words))\n",
        "\n",
        "variable=1/(total_words+unique_words)\n",
        "len(p_word_cv)\n",
        "# print(variable)"
      ],
      "execution_count": null,
      "outputs": [
        {
          "output_type": "execute_result",
          "data": {
            "text/plain": [
              "43"
            ]
          },
          "metadata": {},
          "execution_count": 21
        }
      ]
    },
    {
      "cell_type": "code",
      "metadata": {
        "colab": {
          "base_uri": "https://localhost:8080/"
        },
        "id": "glvX56Qtmf_a",
        "outputId": "f86a3d23-3fb2-4113-85e4-fb69e8b642f7"
      },
      "source": [
        "p_dl = math.log(prior_dl)   #p_dl is the total probability we will get after multiplying many probabilities in it\n",
        "p_cv = math.log(prior_cv)\n",
        "\n",
        "ans1=[]\n",
        "ans2=[]\n",
        "ans1.append(prior_dl)\n",
        "ans2.append(prior_cv)\n",
        "for msg in test_data['doc']:\n",
        "  for word in msg:\n",
        "    for index,w in enumerate(vocab):\n",
        "      if word == w:\n",
        "        ans1.append(p_word_dl[index])\n",
        "        p_dl *= math.log(p_word_dl[index])\n",
        "        ans2.append(p_word_cv[index])\n",
        "        p_cv *= math.log(p_word_cv[index])\n",
        "\n",
        "#####printing outputs######\n",
        "print('The test document is : Deep learning based computer vision methods have been used for facial recognition.\\n')\n",
        "if p_dl>p_cv:\n",
        "  print(\"Predicted class -> DL\")\n",
        "else:\n",
        "  print(\"Predicted class -> CV\")\n",
        "print('----------------------------------------------------------------------------------------------')\n",
        "print('\\nparameters:\\n')\n",
        "print('Total number of documents:',len(document),end=\"\")\n",
        "print('( Test documents=',len(training_data),end=\"\")\n",
        "print(', Train documents=',len(test_data),')')\n",
        "print('Total number of words:',total_words)\n",
        "\n",
        "\n",
        "print('\\nVocabulary is: ',vocab)\n",
        "print('Total number of words in vocabulary:',len(vocab))\n",
        "print('-----------------------------------------------------------------------------------------------')\n",
        "print('\\ncomputation Parameters: \\nP(word|DL)',p_word_dl)\n",
        "print('P(word|CV)',p_word_cv)\n",
        "print('\\nP(D4|DL): ',end=\"\")\n",
        "for i in range(len(ans1)):\n",
        "  if i!=len(ans1)-1:\n",
        "   print(round(ans1[i], 4),' * ',end=\"\")\n",
        "  else:\n",
        "    print(round(ans1[i], 4),' ',end=\"\")\n",
        "print('\\nP(D4|CV): ',end=\"\")\n",
        "for i in range(len(ans2)):\n",
        "  if i!=len(ans1)-1:\n",
        "   print(round(ans2[i], 4),' * ',end=\"\")\n",
        "  else:\n",
        "    print(round(ans1[i], 4),' ',end=\"\")\n",
        "\n"
      ],
      "execution_count": null,
      "outputs": [
        {
          "output_type": "stream",
          "name": "stdout",
          "text": [
            "The test document is : Deep learning based computer vision methods have been used for facial recognition.\n",
            "\n",
            "Predicted class -> CV\n",
            "----------------------------------------------------------------------------------------------\n",
            "\n",
            "parameters:\n",
            "\n",
            "Total number of documents: 4( Test documents= 3, Train documents= 1 )\n",
            "Total number of words: 56\n",
            "\n",
            "Vocabulary is:  ['of', 'many', 'fr', 'used', 'recognition', 'architecture', '(fr)', 'techniques', '(dl)', 'have', 'using', 'facial', 'face', 'systems', 'been', 'deep', 'widely', 'computer', 'from', 'methods', 'for', 'in', 'proposed', 'years', 'the', 'vision', 'recent', 'learn', 'enormous', 'tasks', 'representation', 'these', 'made', 'hierarchical', 'discriminative', 'benefit', 'to', 'an', 'researchers', 'learning', 'various', 'and', 'leap']\n",
            "Total number of words in vocabulary: 43\n",
            "-----------------------------------------------------------------------------------------------\n",
            "\n",
            "computation Parameters: \n",
            "P(word|DL) [0.020202020202020204, 0.020202020202020204, 0.020202020202020204, 0.010101010101010102, 0.020202020202020204, 0.020202020202020204, 0.020202020202020204, 0.020202020202020204, 0.020202020202020204, 0.020202020202020204, 0.020202020202020204, 0.020202020202020204, 0.020202020202020204, 0.020202020202020204, 0.010101010101010102, 0.04040404040404041, 0.010101010101010102, 0.020202020202020204, 0.020202020202020204, 0.030303030303030304, 0.030303030303030304, 0.020202020202020204, 0.020202020202020204, 0.020202020202020204, 0.030303030303030304, 0.020202020202020204, 0.020202020202020204, 0.020202020202020204, 0.020202020202020204, 0.020202020202020204, 0.020202020202020204, 0.020202020202020204, 0.020202020202020204, 0.020202020202020204, 0.020202020202020204, 0.020202020202020204, 0.020202020202020204, 0.020202020202020204, 0.020202020202020204, 0.030303030303030304, 0.020202020202020204, 0.020202020202020204, 0.020202020202020204]\n",
            "P(word|CV) [0.010101010101010102, 0.010101010101010102, 0.010101010101010102, 0.020202020202020204, 0.020202020202020204, 0.010101010101010102, 0.010101010101010102, 0.010101010101010102, 0.010101010101010102, 0.020202020202020204, 0.010101010101010102, 0.020202020202020204, 0.010101010101010102, 0.010101010101010102, 0.020202020202020204, 0.010101010101010102, 0.020202020202020204, 0.020202020202020204, 0.010101010101010102, 0.020202020202020204, 0.020202020202020204, 0.010101010101010102, 0.010101010101010102, 0.010101010101010102, 0.010101010101010102, 0.020202020202020204, 0.010101010101010102, 0.010101010101010102, 0.010101010101010102, 0.010101010101010102, 0.010101010101010102, 0.010101010101010102, 0.010101010101010102, 0.010101010101010102, 0.010101010101010102, 0.010101010101010102, 0.010101010101010102, 0.010101010101010102, 0.010101010101010102, 0.010101010101010102, 0.010101010101010102, 0.010101010101010102, 0.010101010101010102]\n",
            "\n",
            "P(D4|DL): 0.6667  * 0.0404  * 0.0303  * 0.0202  * 0.0202  * 0.0303  * 0.0202  * 0.0101  * 0.0101  * 0.0303  * 0.0202  * 0.0202  \n",
            "P(D4|CV): 0.3333  * 0.0101  * 0.0101  * 0.0202  * 0.0202  * 0.0202  * 0.0202  * 0.0202  * 0.0202  * 0.0202  * 0.0202  * 0.0202  "
          ]
        }
      ]
    },
    {
      "cell_type": "code",
      "metadata": {
        "id": "oHYdVCAmtGPA"
      },
      "source": [],
      "execution_count": null,
      "outputs": []
    }
  ]
}